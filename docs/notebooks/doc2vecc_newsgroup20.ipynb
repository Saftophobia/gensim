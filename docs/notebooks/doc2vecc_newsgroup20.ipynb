{
 "cells": [
  {
   "cell_type": "code",
   "execution_count": 3,
   "metadata": {
    "collapsed": true
   },
   "outputs": [],
   "source": [
    "import sklearn\n",
    "import gensim\n",
    "import logging\n",
    "\n",
    "import numpy as np\n",
    "import pandas as pd\n",
    "\n",
    "logging.basicConfig(format='%(asctime)s : %(levelname)s : %(message)s', level=logging.INFO)"
   ]
  },
  {
   "cell_type": "code",
   "execution_count": 122,
   "metadata": {},
   "outputs": [],
   "source": [
    "newsgroup = sklearn.datasets.fetch_20newsgroups(subset=\"all\", shuffle=True, random_state=42, \n",
    "                                                remove=('header', 'footer', 'quotes'))"
   ]
  },
  {
   "cell_type": "code",
   "execution_count": 139,
   "metadata": {},
   "outputs": [],
   "source": [
    "processed_docs = [gensim.utils.simple_preprocess(x) for x in newsgroup['data']]\n",
    "\n",
    "X_train, X_test, _, y_test = sklearn.model_selection.train_test_split(processed_docs, newsgroup['target'], \n",
    "                                                                      random_state=42, test_size=0.33)"
   ]
  },
  {
   "cell_type": "code",
   "execution_count": null,
   "metadata": {},
   "outputs": [],
   "source": [
    "doc2vecc_model = gensim.models.word2vec.Word2Vec(X_train, size=100, alpha=0.025, window=5, min_count=3, \n",
    "                                                 sample=1e-3, seed=42, workers=4, min_alpha=0.0001, \n",
    "                                                 sg=1, hs=0, negative=5, ns_exponent=0.75, cbow_mean=0, \n",
    "                                                 iter=30, doc2vecc=0.2)\n",
    "\n",
    "# 2018-11-27 13:57:23,705 : INFO : training on a 80221560 raw words (64035464 effective words) took 4313.5s, 14845 effective words/s"
   ]
  },
  {
   "cell_type": "code",
   "execution_count": null,
   "metadata": {},
   "outputs": [],
   "source": [
    "word2vec_model = gensim.models.word2vec.Word2Vec(X_train, size=100, alpha=0.025, window=5, min_count=3, \n",
    "                                                 sample=1e-3, seed=42, workers=4, min_alpha=0.0001, \n",
    "                                                 sg=1, hs=0, negative=5, ns_exponent=0.75, cbow_mean=0, \n",
    "                                                 iter=30)\n",
    "\n",
    "# 2018-11-27 14:05:27,024 : INFO : training on a 80221560 raw words (64033783 effective words) took 252.7s, 253358 effective words/s"
   ]
  },
  {
   "cell_type": "code",
   "execution_count": 141,
   "metadata": {
    "collapsed": false
   },
   "outputs": [],
   "source": [
    "def infer_vectors(model, documents):\n",
    "    document_vectors = []\n",
    "    for doc in documents:\n",
    "        doc_vector = np.zeros(model.vector_size)\n",
    "        size = 0\n",
    "        for word in doc:\n",
    "            if word in model.wv.vocab:\n",
    "                doc_vector += model.wv[word]\n",
    "                size += 1\n",
    "        if size > 0:\n",
    "            doc_vector /= size    \n",
    "        document_vectors.append(doc_vector)\n",
    "    return document_vectors"
   ]
  },
  {
   "cell_type": "code",
   "execution_count": 169,
   "metadata": {
    "collapsed": true
   },
   "outputs": [],
   "source": [
    "X_test_vectors_doc2vecc = infer_vectors(doc2vecc_model, X_test)\n",
    "X_test_vectors_word2vec = infer_vectors(word2vec_model, X_test)\n",
    "del X_test"
   ]
  },
  {
   "cell_type": "code",
   "execution_count": 16,
   "metadata": {
    "collapsed": false
   },
   "outputs": [],
   "source": [
    "# Create the dataset, triplets, (Document A, Document B from the same category, document C randomly sampled from the dataset).\n",
    "\n",
    "df = pd.DataFrame(y_test, columns=['target'])\n",
    "df['index'] = df.index\n",
    "\n",
    "np.random.seed(42)\n",
    "df_sample = df.sample(frac=0.20)\n",
    "\n",
    "df_positive = pd\\\n",
    "    .merge(df_sample, df_sample, left_on='target', right_on=df_sample['target'])\\\n",
    "    .drop(['target_x', 'target_y'], axis=1)\n",
    "\n",
    "# remove identical documents\n",
    "df_positive = df_positive[df_positive['index_x'] != df_positive['index_y']] "
   ]
  },
  {
   "cell_type": "code",
   "execution_count": 17,
   "metadata": {},
   "outputs": [],
   "source": [
    "# Add the randomly added documents\n",
    "df_negative = df.sample(len(df_positive), replace=True)\n",
    "df_negative.columns = ['target_z', 'index_z']\n",
    "\n",
    "df_positive['target_z'] = df_negative['target_z'].values\n",
    "df_positive['index_z']  = df_negative['index_z'].values\n",
    "\n",
    "# remove Documents C with the same category as Document A \n",
    "df_positive_negative = df_positive[df_positive['target'] != df_positive['target_z']].drop(['target', 'target_z'], \n",
    "                                                                                          axis=1)"
   ]
  },
  {
   "cell_type": "code",
   "execution_count": 18,
   "metadata": {
    "collapsed": false
   },
   "outputs": [
    {
     "data": {
      "text/html": [
       "<div>\n",
       "<style scoped>\n",
       "    .dataframe tbody tr th:only-of-type {\n",
       "        vertical-align: middle;\n",
       "    }\n",
       "\n",
       "    .dataframe tbody tr th {\n",
       "        vertical-align: top;\n",
       "    }\n",
       "\n",
       "    .dataframe thead th {\n",
       "        text-align: right;\n",
       "    }\n",
       "</style>\n",
       "<table border=\"1\" class=\"dataframe\">\n",
       "  <thead>\n",
       "    <tr style=\"text-align: right;\">\n",
       "      <th></th>\n",
       "      <th>index_x</th>\n",
       "      <th>index_y</th>\n",
       "      <th>index_z</th>\n",
       "    </tr>\n",
       "  </thead>\n",
       "  <tbody>\n",
       "    <tr>\n",
       "      <th>1</th>\n",
       "      <td>5927</td>\n",
       "      <td>3837</td>\n",
       "      <td>2973</td>\n",
       "    </tr>\n",
       "    <tr>\n",
       "      <th>2</th>\n",
       "      <td>5927</td>\n",
       "      <td>4293</td>\n",
       "      <td>1758</td>\n",
       "    </tr>\n",
       "    <tr>\n",
       "      <th>3</th>\n",
       "      <td>5927</td>\n",
       "      <td>3469</td>\n",
       "      <td>2281</td>\n",
       "    </tr>\n",
       "    <tr>\n",
       "      <th>4</th>\n",
       "      <td>5927</td>\n",
       "      <td>65</td>\n",
       "      <td>1678</td>\n",
       "    </tr>\n",
       "    <tr>\n",
       "      <th>6</th>\n",
       "      <td>5927</td>\n",
       "      <td>1069</td>\n",
       "      <td>2011</td>\n",
       "    </tr>\n",
       "  </tbody>\n",
       "</table>\n",
       "</div>"
      ],
      "text/plain": [
       "<div>\n",
       "<style scoped>\n",
       "    .dataframe tbody tr th:only-of-type {\n",
       "        vertical-align: middle;\n",
       "    }\n",
       "\n",
       "    .dataframe tbody tr th {\n",
       "        vertical-align: top;\n",
       "    }\n",
       "\n",
       "    .dataframe thead th {\n",
       "        text-align: right;\n",
       "    }\n",
       "</style>\n",
       "<table border=\"1\" class=\"dataframe\">\n",
       "  <thead>\n",
       "    <tr style=\"text-align: right;\">\n",
       "      <th></th>\n",
       "      <th>index_x</th>\n",
       "      <th>index_y</th>\n",
       "      <th>index_z</th>\n",
       "    </tr>\n",
       "  </thead>\n",
       "  <tbody>\n",
       "    <tr>\n",
       "      <th>1</th>\n",
       "      <td>5927</td>\n",
       "      <td>3837</td>\n",
       "      <td>2973</td>\n",
       "    </tr>\n",
       "    <tr>\n",
       "      <th>2</th>\n",
       "      <td>5927</td>\n",
       "      <td>4293</td>\n",
       "      <td>1758</td>\n",
       "    </tr>\n",
       "    <tr>\n",
       "      <th>3</th>\n",
       "      <td>5927</td>\n",
       "      <td>3469</td>\n",
       "      <td>2281</td>\n",
       "    </tr>\n",
       "    <tr>\n",
       "      <th>4</th>\n",
       "      <td>5927</td>\n",
       "      <td>65</td>\n",
       "      <td>1678</td>\n",
       "    </tr>\n",
       "    <tr>\n",
       "      <th>6</th>\n",
       "      <td>5927</td>\n",
       "      <td>1069</td>\n",
       "      <td>2011</td>\n",
       "    </tr>\n",
       "  </tbody>\n",
       "</table>\n",
       "</div>"
      ]
     },
     "execution_count": 18,
     "metadata": {},
     "output_type": "execute_result"
    }
   ],
   "source": [
    "df_positive_negative.head(5)"
   ]
  },
  {
   "cell_type": "code",
   "execution_count": 133,
   "metadata": {},
   "outputs": [],
   "source": [
    "def cosine_similarity(a, b):\n",
    "    \"\"\"identical vectors should yield similarity of 1.0\"\"\"\n",
    "    return np.dot(a, b) / (np.linalg.norm(a) * np.linalg.norm(b))\n",
    "\n",
    "\n",
    "def sigmoid(x):\n",
    "    return 1 / (1 + np.exp(-x))\n",
    "\n",
    "\n",
    "def compare_vectors(docvecs_list, doc_x, doc_y, doc_z):\n",
    "    \"\"\"Returns True if doc_y is closer to doc_x than doc_z\"\"\"  \n",
    "    return cosine_similarity(docvecs_list[doc_x], docvecs_list[doc_y]) \\\n",
    "           > cosine_similarity(docvecs_list[doc_x], docvecs_list[doc_z])\n",
    "\n",
    "\n",
    "def compare_distances(docvecs_list, doc_x, doc_y, doc_z):\n",
    "    \"\"\" returns 1.0 if x and y are identical, while x and z are very not indentical\"\"\"\n",
    "    return 1.0 - sigmoid(\n",
    "        np.linalg.norm(docvecs_list[doc_x] - docvecs_list[doc_y]) -\n",
    "        np.linalg.norm(docvecs_list[doc_x] - docvecs_list[doc_z]))"
   ]
  },
  {
   "cell_type": "code",
   "execution_count": null,
   "metadata": {
    "collapsed": true
   },
   "outputs": [],
   "source": [
    "doc2vecc_correctly_classified = df_positive_negative.apply(lambda x: compare_vectors(X_test_vectors_doc2vecc, *x), axis=1).sum()\n",
    "word2vec_correctly_classified = df_positive_negative.apply(lambda x: compare_vectors(X_test_vectors_word2vec, *x), axis=1).sum()\n",
    "\n",
    "doc2vecc_avg_distance = df_positive_negative.apply(lambda x: compare_distances(X_test_vectors_doc2vecc, *x), axis=1).mean()\n",
    "word2vec_avg_distance = df_positive_negative.apply(lambda x: compare_distances(X_test_vectors_word2vec, *x), axis=1).mean()"
   ]
  },
  {
   "cell_type": "code",
   "execution_count": 167,
   "metadata": {},
   "outputs": [
    {
     "name": "stdout",
     "output_type": "stream",
     "text": [
      "Doc2vecC with 0.2 corruption classified:\t 48222 correctly,\t 64.711882%\nWord2Vec classified:\t\t\t 52490 correctly,\t 70.439357%\n---------------------------------------------------------------------------\nDoc2vecC with 0.2 corruption average distance: \t 0.522506\nWord2Vec average distance:\t\t\t 0.527471\n"
     ]
    }
   ],
   "source": [
    "print(\"Doc2vecC with 0.2 corruption classified:\\t %i correctly,\\t %f%%\" % (doc2vecc_correctly_classified, doc2vecc_correctly_classified/len(df_positive_negative) * 100))\n",
    "print(\"Word2Vec classified:\\t\\t\\t %i correctly,\\t %f%%\" % (word2vec_correctly_classified, word2vec_correctly_classified/len(df_positive_negative) * 100))\n",
    "print('-'*75)\n",
    "print(\"Doc2vecC with 0.2 corruption average distance: \\t %f\" % doc2vecc_avg_distance)\n",
    "print(\"Word2Vec average distance:\\t\\t\\t %f\" % word2vec_avg_distance)\n"
   ]
  }
 ],
 "metadata": {
  "kernelspec": {
   "display_name": "Python 2",
   "language": "python",
   "name": "python2"
  },
  "language_info": {
   "codemirror_mode": {
    "name": "ipython",
    "version": 2
   },
   "file_extension": ".py",
   "mimetype": "text/x-python",
   "name": "python",
   "nbconvert_exporter": "python",
   "pygments_lexer": "ipython2",
   "version": "2.7.6"
  }
 },
 "nbformat": 4,
 "nbformat_minor": 0
}

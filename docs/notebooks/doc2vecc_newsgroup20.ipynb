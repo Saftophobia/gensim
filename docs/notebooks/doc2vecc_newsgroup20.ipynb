{
 "cells": [
  {
   "cell_type": "code",
   "execution_count": 3,
   "metadata": {
    "collapsed": true
   },
   "outputs": [],
   "source": [
    "import sklearn\n",
    "import gensim\n",
    "import logging\n",
    "\n",
    "import numpy as np\n",
    "import pandas as pd\n",
    "\n",
    "logging.basicConfig(format='%(asctime)s : %(levelname)s : %(message)s', level=logging.INFO)"
   ]
  },
  {
   "cell_type": "code",
   "execution_count": 122,
   "metadata": {},
   "outputs": [],
   "source": [
    "newsgroup = sklearn.datasets.fetch_20newsgroups(subset=\"all\", shuffle=True, random_state=42, \n",
    "                                                remove=('header', 'footer', 'quotes'))"
   ]
  },
  {
   "cell_type": "code",
   "execution_count": 193,
   "metadata": {},
   "outputs": [],
   "source": [
    "processed_docs = [gensim.utils.simple_preprocess(x) for x in newsgroup['data']]\n",
    "\n",
    "X_train, X_test, _, y_test = sklearn.model_selection.train_test_split(processed_docs, newsgroup['target'], \n",
    "                                                                      random_state=42, test_size=0.33)"
   ]
  },
  {
   "cell_type": "code",
   "execution_count": null,
   "metadata": {},
   "outputs": [],
   "source": [
    "doc2vecc_gensim = gensim.models.word2vec.Word2Vec(X_train, size=100, alpha=0.025, window=5, min_count=3, \n",
    "                                                 sample=1e-3, seed=42, workers=4, min_alpha=0.0001, \n",
    "                                                 sg=1, hs=0, negative=5, ns_exponent=0.75, cbow_mean=0, \n",
    "                                                 iter=30, doc2vecc=0.2)\n",
    "\n",
    "# 2018-11-27 13:57:23,705 : INFO : training on a 80221560 raw words (64035464 effective words) took 4313.5s, 14845 effective words/s"
   ]
  },
  {
   "cell_type": "code",
   "execution_count": null,
   "metadata": {},
   "outputs": [],
   "source": [
    "doc2vecc_C = gensim.models.KeyedVectors.load_word2vec_format(\"wordvectors.txt\", binary=False)\n",
    "\n",
    "# time ./doc2vecc -train ../../X_train.txt -word wordvectors.txt -cbow 0 -size 100 -window 5 -negative 5 -hs 0 -sample 0.001 -threads 2 -binary 0 -iter 30 -min-count 3 \\\n",
    "# -sentence-sample 0.2 -alpha 0.025 -save-vocab tmp.vocab -test alldata.txt -output docvectors.txt^C"
   ]
  },
  {
   "cell_type": "code",
   "execution_count": 141,
   "metadata": {
    "collapsed": false
   },
   "outputs": [],
   "source": [
    "def infer_vectors(model, documents):\n",
    "    document_vectors = []\n",
    "    for doc in documents:\n",
    "        doc_vector = np.zeros(model.vector_size)\n",
    "        size = 0\n",
    "        for word in doc:\n",
    "            if word in model.wv.vocab:\n",
    "                doc_vector += model.wv[word]\n",
    "                size += 1\n",
    "        if size > 0:\n",
    "            doc_vector /= size    \n",
    "        document_vectors.append(doc_vector)\n",
    "    return document_vectors"
   ]
  },
  {
   "cell_type": "code",
   "execution_count": 197,
   "metadata": {
    "collapsed": true
   },
   "outputs": [
    {
     "name": "stderr",
     "output_type": "stream",
     "text": [
      "/Users/ahmed.elsafty/Downloads/venv/lib/python3.5/site-packages/ipykernel_launcher.py:7: DeprecationWarning: Call to deprecated `wv` (Attribute will be removed in 4.0.0, use self instead).\n  import sys\n/Users/ahmed.elsafty/Downloads/venv/lib/python3.5/site-packages/ipykernel_launcher.py:8: DeprecationWarning: Call to deprecated `wv` (Attribute will be removed in 4.0.0, use self instead).\n  \n"
     ]
    }
   ],
   "source": [
    "vectors_doc2vecc_gensim = infer_vectors(doc2vecc_gensim, X_test)\n",
    "vectors_doc2vecc_C      = infer_vectors(doc2vecc_C, X_test)\n",
    "del X_test"
   ]
  },
  {
   "cell_type": "code",
   "execution_count": 17,
   "metadata": {},
   "outputs": [],
   "source": [
    "# Add the randomly added documents\n",
    "df_negative = df.sample(len(df_positive), replace=True)\n",
    "df_negative.columns = ['target_z', 'index_z']\n",
    "\n",
    "df_positive['target_z'] = df_negative['target_z'].values\n",
    "df_positive['index_z']  = df_negative['index_z'].values\n",
    "\n",
    "# remove Documents C with the same category as Document A \n",
    "df_positive_negative = df_positive[df_positive['target'] != df_positive['target_z']].drop(['target', 'target_z'], \n",
    "                                                                                          axis=1)"
   ]
  },
  {
   "cell_type": "code",
   "execution_count": 18,
   "metadata": {
    "collapsed": false
   },
   "outputs": [
    {
     "data": {
      "text/html": [
       "<div>\n",
       "<style scoped>\n",
       "    .dataframe tbody tr th:only-of-type {\n",
       "        vertical-align: middle;\n",
       "    }\n",
       "\n",
       "    .dataframe tbody tr th {\n",
       "        vertical-align: top;\n",
       "    }\n",
       "\n",
       "    .dataframe thead th {\n",
       "        text-align: right;\n",
       "    }\n",
       "</style>\n",
       "<table border=\"1\" class=\"dataframe\">\n",
       "  <thead>\n",
       "    <tr style=\"text-align: right;\">\n",
       "      <th></th>\n",
       "      <th>index_x</th>\n",
       "      <th>index_y</th>\n",
       "      <th>index_z</th>\n",
       "    </tr>\n",
       "  </thead>\n",
       "  <tbody>\n",
       "    <tr>\n",
       "      <th>1</th>\n",
       "      <td>5927</td>\n",
       "      <td>3837</td>\n",
       "      <td>2973</td>\n",
       "    </tr>\n",
       "    <tr>\n",
       "      <th>2</th>\n",
       "      <td>5927</td>\n",
       "      <td>4293</td>\n",
       "      <td>1758</td>\n",
       "    </tr>\n",
       "    <tr>\n",
       "      <th>3</th>\n",
       "      <td>5927</td>\n",
       "      <td>3469</td>\n",
       "      <td>2281</td>\n",
       "    </tr>\n",
       "    <tr>\n",
       "      <th>4</th>\n",
       "      <td>5927</td>\n",
       "      <td>65</td>\n",
       "      <td>1678</td>\n",
       "    </tr>\n",
       "    <tr>\n",
       "      <th>6</th>\n",
       "      <td>5927</td>\n",
       "      <td>1069</td>\n",
       "      <td>2011</td>\n",
       "    </tr>\n",
       "  </tbody>\n",
       "</table>\n",
       "</div>"
      ],
      "text/plain": [
       "<div>\n",
       "<style scoped>\n",
       "    .dataframe tbody tr th:only-of-type {\n",
       "        vertical-align: middle;\n",
       "    }\n",
       "\n",
       "    .dataframe tbody tr th {\n",
       "        vertical-align: top;\n",
       "    }\n",
       "\n",
       "    .dataframe thead th {\n",
       "        text-align: right;\n",
       "    }\n",
       "</style>\n",
       "<table border=\"1\" class=\"dataframe\">\n",
       "  <thead>\n",
       "    <tr style=\"text-align: right;\">\n",
       "      <th></th>\n",
       "      <th>index_x</th>\n",
       "      <th>index_y</th>\n",
       "      <th>index_z</th>\n",
       "    </tr>\n",
       "  </thead>\n",
       "  <tbody>\n",
       "    <tr>\n",
       "      <th>1</th>\n",
       "      <td>5927</td>\n",
       "      <td>3837</td>\n",
       "      <td>2973</td>\n",
       "    </tr>\n",
       "    <tr>\n",
       "      <th>2</th>\n",
       "      <td>5927</td>\n",
       "      <td>4293</td>\n",
       "      <td>1758</td>\n",
       "    </tr>\n",
       "    <tr>\n",
       "      <th>3</th>\n",
       "      <td>5927</td>\n",
       "      <td>3469</td>\n",
       "      <td>2281</td>\n",
       "    </tr>\n",
       "    <tr>\n",
       "      <th>4</th>\n",
       "      <td>5927</td>\n",
       "      <td>65</td>\n",
       "      <td>1678</td>\n",
       "    </tr>\n",
       "    <tr>\n",
       "      <th>6</th>\n",
       "      <td>5927</td>\n",
       "      <td>1069</td>\n",
       "      <td>2011</td>\n",
       "    </tr>\n",
       "  </tbody>\n",
       "</table>\n",
       "</div>"
      ]
     },
     "execution_count": 18,
     "metadata": {},
     "output_type": "execute_result"
    }
   ],
   "source": [
    "df_positive_negative.head(5)"
   ]
  },
  {
   "cell_type": "code",
   "execution_count": 133,
   "metadata": {},
   "outputs": [],
   "source": [
    "def cosine_similarity(a, b):\n",
    "    \"\"\"identical vectors should yield similarity of 1.0\"\"\"\n",
    "    return np.dot(a, b) / (np.linalg.norm(a) * np.linalg.norm(b))\n",
    "\n",
    "\n",
    "def sigmoid(x):\n",
    "    return 1 / (1 + np.exp(-x))\n",
    "\n",
    "\n",
    "def compare_vectors(docvecs_list, doc_x, doc_y, doc_z):\n",
    "    \"\"\"Returns True if doc_y is closer to doc_x than doc_z in the vector space.\"\"\"  \n",
    "    return cosine_similarity(docvecs_list[doc_x], docvecs_list[doc_y]) \\\n",
    "           > cosine_similarity(docvecs_list[doc_x], docvecs_list[doc_z])\n",
    "\n",
    "\n",
    "def compare_distances(docvecs_list, doc_x, doc_y, doc_z):\n",
    "    \"\"\" returns 1.0 if x and y are very close in the vector space, while x and z are very distant.\"\"\"\n",
    "    return 1.0 - sigmoid(\n",
    "        np.linalg.norm(docvecs_list[doc_x] - docvecs_list[doc_y]) -\n",
    "        np.linalg.norm(docvecs_list[doc_x] - docvecs_list[doc_z]))"
   ]
  },
  {
   "cell_type": "code",
   "execution_count": 198,
   "metadata": {
    "collapsed": true
   },
   "outputs": [],
   "source": [
    "gensim_true_positives   = df_positive_negative.apply(lambda x: compare_vectors(vectors_doc2vecc_gensim, *x), axis=1).sum()\n",
    "C_true_positives        = df_positive_negative.apply(lambda x: compare_vectors(vectors_doc2vecc_C, *x), axis=1).sum()\n",
    "\n",
    "gensim_avg_distance = df_positive_negative.apply(lambda x: compare_distances(vectors_doc2vecc_gensim, *x), axis=1).mean()\n",
    "C_avg_distance = df_positive_negative.apply(lambda x: compare_distances(vectors_doc2vecc_C, *x), axis=1).mean()"
   ]
  },
  {
   "cell_type": "code",
   "execution_count": 202,
   "metadata": {},
   "outputs": [
    {
     "name": "stdout",
     "output_type": "stream",
     "text": [
      "Gensim classified:\t 48222 correctly,\t 64.711882%\nC code classified:\t 49147 correctly,\t 65.953193%\n---------------------------------------------------------------------------\nGensim average distance: \t 0.522506\nC code average distance:\t 0.627540\n"
     ]
    }
   ],
   "source": [
    "print(\"Gensim classified:\\t %i correctly,\\t %f%%\" % (gensim_true_positives, gensim_true_positives/len(df_positive_negative) * 100))\n",
    "print(\"C code classified:\\t %i correctly,\\t %f%%\" % (C_true_positives, C_true_positives/len(df_positive_negative) * 100))\n",
    "print('-'*75)\n",
    "print(\"Gensim average distance: \\t %f\" % gensim_avg_distance)\n",
    "print(\"C code average distance:\\t %f\" % C_avg_distance)"
   ]
  }
 ],
 "metadata": {
  "kernelspec": {
   "display_name": "Python 2",
   "language": "python",
   "name": "python2"
  },
  "language_info": {
   "codemirror_mode": {
    "name": "ipython",
    "version": 2
   },
   "file_extension": ".py",
   "mimetype": "text/x-python",
   "name": "python",
   "nbconvert_exporter": "python",
   "pygments_lexer": "ipython2",
   "version": "2.7.6"
  }
 },
 "nbformat": 4,
 "nbformat_minor": 0
}
